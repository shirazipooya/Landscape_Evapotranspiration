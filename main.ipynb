{
 "cells": [
  {
   "cell_type": "code",
   "execution_count": 1,
   "metadata": {
    "pycharm": {
     "name": "#%% INITIAL SETTINGSS\n"
    }
   },
   "outputs": [],
   "source": [
    "# IMPORT MODULES\n",
    "import platform\n",
    "import numpy as np\n",
    "import pandas as pd\n",
    "import plotly.express as px\n",
    "import plotly.graph_objs as go\n",
    "from funcs import *\n",
    "\n",
    "\n",
    "# SET PROJECT PATH\n",
    "if platform.system() == \"Linux\":\n",
    "    PROJECT_PATH = \"/mnt/c/Users/pooya/Dropbox/HydroTech/Landscape_Evapotranspiration/\"\n",
    "else:\n",
    "    PROJECT_PATH = \"C:/Users/pooya/Dropbox/HydroTech/Landscape_Evapotranspiration/\"\n",
    "\n",
    "\n",
    "# READ DATA\n",
    "raw_data = pd.read_excel(PROJECT_PATH + \"assets/data/data.xlsx\", engine = \"openpyxl\")\n",
    "location_name = pd.read_excel(PROJECT_PATH + \"assets/data/location_name.xlsx\", engine = \"openpyxl\")\n"
   ]
  },
  {
   "cell_type": "code",
   "execution_count": 2,
   "metadata": {
    "pycharm": {
     "name": "#%% DATA CLEANSING\n"
    }
   },
   "outputs": [],
   "source": [
    "data = data_cleansing(data=raw_data,\n",
    "                      location_name=location_name)\n"
   ]
  },
  {
   "cell_type": "code",
   "execution_count": 3,
   "metadata": {
    "pycharm": {
     "name": "#%% MODIFY TREE AREA\n"
    }
   },
   "outputs": [
    {
     "name": "stderr",
     "output_type": "stream",
     "text": [
      "c:\\users\\pooya\\dropbox\\hydrotech\\landscape_evapotranspiration\\venv\\lib\\site-packages\\pandas\\core\\indexing.py:1763: SettingWithCopyWarning: \n",
      "A value is trying to be set on a copy of a slice from a DataFrame.\n",
      "Try using .loc[row_indexer,col_indexer] = value instead\n",
      "\n",
      "See the caveats in the documentation: https://pandas.pydata.org/pandas-docs/stable/user_guide/indexing.html#returning-a-view-versus-a-copy\n",
      "  isetter(loc, value)\n"
     ]
    }
   ],
   "source": [
    "data = tree_area_modify(data=data)\n",
    "\n",
    "file_name = PROJECT_PATH + \"assets/report/dataset.xlsx\"\n",
    "with pd.ExcelWriter(path=file_name, engine=\"openpyxl\", mode=\"w\") as writer:\n",
    "    data.to_excel(writer, index=False, sheet_name=\"Sheet1\")\n"
   ]
  },
  {
   "cell_type": "code",
   "execution_count": 4,
   "metadata": {
    "pycharm": {
     "name": "#%% REPORT AREA\n"
    }
   },
   "outputs": [
    {
     "name": "stderr",
     "output_type": "stream",
     "text": [
      "c:\\users\\pooya\\dropbox\\hydrotech\\landscape_evapotranspiration\\venv\\lib\\site-packages\\pandas\\core\\reshape\\merge.py:643: UserWarning: merging between different levels can give an unintended result (3 levels on the left,2 on the right)\n",
      "  warnings.warn(msg, UserWarning)\n"
     ]
    }
   ],
   "source": [
    "report = report_area(data=data)\n",
    "\n",
    "file_name = PROJECT_PATH + \"assets/report/report_area.xlsx\"\n",
    "with pd.ExcelWriter(path=file_name, engine=\"openpyxl\", mode=\"w\") as writer:\n",
    "    report.to_excel(writer, index=True, sheet_name=\"لکه\")\n",
    "\n",
    "report = report.reset_index().drop([\"نام نوع لکه\", \"نام لکه\"], axis=1)\n",
    "\n",
    "with pd.ExcelWriter(path=file_name, engine=\"openpyxl\", mode=\"a\") as writer:\n",
    "    report.groupby(['منطقه', 'ناحیه']).sum().to_excel(writer, index=True, sheet_name=\"ناحیه\")\n",
    "\n",
    "with pd.ExcelWriter(path=file_name, engine=\"openpyxl\", mode=\"a\") as writer:\n",
    "    report.groupby(['منطقه']).sum().to_excel(writer, index=True, sheet_name=\"منطقه\")"
   ]
  }
 ],
 "metadata": {
  "kernelspec": {
   "display_name": "Python 3",
   "language": "python",
   "name": "python3"
  },
  "language_info": {
   "codemirror_mode": {
    "name": "ipython",
    "version": 3
   },
   "file_extension": ".py",
   "mimetype": "text/x-python",
   "name": "python",
   "nbconvert_exporter": "python",
   "pygments_lexer": "ipython3",
   "version": "3.8.5"
  }
 },
 "nbformat": 4,
 "nbformat_minor": 1
}
