{
 "cells": [
  {
   "cell_type": "code",
   "execution_count": null,
   "metadata": {
    "collapsed": true,
    "pycharm": {
     "name": "#%% INITIAL SETTINGSS\n"
    }
   },
   "outputs": [],
   "source": [
    "# IMPORT MODULES\n",
    "import platform\n",
    "import numpy as np\n",
    "import pandas as pd\n",
    "import plotly.express as px\n",
    "import plotly.graph_objs as go\n",
    "from funcs import *\n",
    "\n",
    "\n",
    "# SET PROJECT PATH\n",
    "if platform.system() == \"Linux\":\n",
    "    PROJECT_PATH = \"/mnt/c/Users/pooya/Dropbox/HydroTech/Landscape_Evapotranspiration/\"\n",
    "else:\n",
    "    PROJECT_PATH = \"C:/Users/pooya/Dropbox/HydroTech/Landscape_Evapotranspiration/\"\n",
    "\n",
    "\n",
    "# READ DATA\n",
    "raw_data = pd.read_excel(PROJECT_PATH + \"assets/data/data.xlsx\", engine = \"openpyxl\")\n",
    "location_name = pd.read_excel(PROJECT_PATH + \"assets/data/location_name.xlsx\", engine = \"openpyxl\")\n"
   ]
  },
  {
   "cell_type": "code",
   "execution_count": null,
   "outputs": [],
   "source": [
    "data = data_cleansing(data=raw_data,\n",
    "                      location_name=location_name)\n"
   ],
   "metadata": {
    "collapsed": false,
    "pycharm": {
     "name": "#%% DATA CLEANSING\n"
    }
   }
  },
  {
   "cell_type": "code",
   "execution_count": null,
   "outputs": [],
   "source": [
    "data = tree_area_modify(data=data)\n",
    "\n",
    "file_name = PROJECT_PATH + \"assets/report/dataset.xlsx\"\n",
    "with pd.ExcelWriter(path=file_name, engine=\"openpyxl\", mode=\"w\") as writer:\n",
    "    data.to_excel(writer, index=False, sheet_name=\"Sheet1\")\n"
   ],
   "metadata": {
    "collapsed": false,
    "pycharm": {
     "name": "#%% MODIFY TREE AREA\n"
    }
   }
  },
  {
   "cell_type": "code",
   "execution_count": null,
   "outputs": [],
   "source": [
    "report_area = report_area(data=data)\n",
    "\n",
    "file_name = PROJECT_PATH + \"assets/report/report_area.xlsx\"\n",
    "with pd.ExcelWriter(path=file_name, engine=\"openpyxl\", mode=\"w\") as writer:\n",
    "    report_area.to_excel(writer, index=True, sheet_name=\"Sheet1\")\n"
   ],
   "metadata": {
    "collapsed": false,
    "pycharm": {
     "name": "#%% REPORT AREA\n"
    }
   }
  }
 ],
 "metadata": {
  "kernelspec": {
   "display_name": "Python 3",
   "language": "python",
   "name": "python3"
  },
  "language_info": {
   "codemirror_mode": {
    "name": "ipython",
    "version": 2
   },
   "file_extension": ".py",
   "mimetype": "text/x-python",
   "name": "python",
   "nbconvert_exporter": "python",
   "pygments_lexer": "ipython2",
   "version": "2.7.6"
  }
 },
 "nbformat": 4,
 "nbformat_minor": 0
}